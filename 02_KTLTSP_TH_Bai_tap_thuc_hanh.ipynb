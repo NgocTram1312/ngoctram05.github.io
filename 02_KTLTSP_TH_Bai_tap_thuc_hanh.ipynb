{
  "nbformat": 4,
  "nbformat_minor": 0,
  "metadata": {
    "colab": {
      "provenance": [],
      "authorship_tag": "ABX9TyPTES3D7gQ8zhzi9DE3bTPM",
      "include_colab_link": true
    },
    "kernelspec": {
      "name": "python3",
      "display_name": "Python 3"
    },
    "language_info": {
      "name": "python"
    }
  },
  "cells": [
    {
      "cell_type": "markdown",
      "metadata": {
        "id": "view-in-github",
        "colab_type": "text"
      },
      "source": [
        "<a href=\"https://colab.research.google.com/github/NgocTram1312/ngoctram05.github.io/blob/gh-pages/02_KTLTSP_TH_Bai_tap_thuc_hanh.ipynb\" target=\"_parent\"><img src=\"https://colab.research.google.com/assets/colab-badge.svg\" alt=\"Open In Colab\"/></a>"
      ]
    },
    {
      "cell_type": "code",
      "execution_count": null,
      "metadata": {
        "id": "jVmroEUfOcRB"
      },
      "outputs": [],
      "source": [
        "def InNhan():\n",
        "    print(\"************************\")\n",
        "    print(\"* Truong: Dai Hoc UEH  *\")\n",
        "    print(\"* Khoa: CNTT           *\")\n",
        "    print(\"* Ho ten:              *\")\n",
        "    print(\"************************\")"
      ]
    },
    {
      "cell_type": "code",
      "source": [
        "def HinhTron():\n",
        "    R = float(input(\"Nhap ban kinh R: \"))\n",
        "    S = 3.14 * R * R\n",
        "    P = 2 * 3.14 * R\n",
        "    print(f\"Dien tich S = {S:.1f}\")\n",
        "    print(f\"Chu vi P = {P:.1f}\")"
      ],
      "metadata": {
        "id": "6L0F3OJBPCpr"
      },
      "execution_count": null,
      "outputs": []
    },
    {
      "cell_type": "code",
      "source": [
        "def DoiSangGiay():\n",
        "    h = int(input(\"Nhap so gio: \"))\n",
        "    m = int(input(\"Nhap so phut: \"))\n",
        "    s = int(input(\"Nhap so giay: \"))\n",
        "\n",
        "    tong = h * 3600 + m * 60 + s\n",
        "    print(f\"Tong so giay cua {h}:{m}:{s} la {tong} giay\")"
      ],
      "metadata": {
        "id": "IVz6pH-UPFNW"
      },
      "execution_count": null,
      "outputs": []
    },
    {
      "cell_type": "code",
      "source": [
        "def DoiSangGioPhutGiay():\n",
        "    tong = int(input(\"Nhap vao tong so giay: \"))\n",
        "\n",
        "    h = tong // 3600\n",
        "    m = (tong % 3600) // 60\n",
        "    s = tong % 60\n",
        "\n",
        "    print(f\"{tong} giay co dang {h}:{m}:{s}\")"
      ],
      "metadata": {
        "id": "_YqSDQQqQmDM"
      },
      "execution_count": null,
      "outputs": []
    },
    {
      "cell_type": "code",
      "source": [
        "import math\n",
        "\n",
        "def DienTichTamGiac():\n",
        "    a = float(input(\"Nhap canh a: \"))\n",
        "    b = float(input(\"Nhap canh b: \"))\n",
        "    c = float(input(\"Nhap canh c: \"))\n",
        "\n",
        "    p = (a + b + c) / 2\n",
        "    S = math.sqrt(p * (p - a) * (p - b) * (p - c))\n",
        "\n",
        "    print(f\"Dien tich tam giac la: {S:.2f}\")"
      ],
      "metadata": {
        "id": "Un-ye16mRGuK"
      },
      "execution_count": null,
      "outputs": []
    },
    {
      "cell_type": "code",
      "source": [
        "def Tinhmu():\n",
        "  a = float(input(\"Nhap so thuc a:\"))\n",
        "  n = int(input(\"Nhap so mu : \"))\n",
        "  kq = a ** n\n",
        "  print(f\"Ket qua la {a}^ {n}= {kq}\")\n",
        "\n"
      ],
      "metadata": {
        "id": "pv3KmXfTRIBu"
      },
      "execution_count": null,
      "outputs": []
    },
    {
      "cell_type": "code",
      "source": [
        "def DaoSo():\n",
        "    x = int(input(\"Nhap so nguyen co 4 chu so: \"))\n",
        "    y = int(str(x)[::-1])  # đổi số thành chuỗi rồi đảo ngược\n",
        "    print(f\"So dao nguoc cua {x} la {y}\")"
      ],
      "metadata": {
        "id": "_o8TaPArTM0k"
      },
      "execution_count": null,
      "outputs": []
    },
    {
      "cell_type": "code",
      "source": [
        "def DoSangRadian():\n",
        "    deg = float(input(\"Nhap goc (do): \"))\n",
        "    rad = deg * math.pi / 180\n",
        "    print(f\"{deg} do = {rad} radian\")\n",
        "\n"
      ],
      "metadata": {
        "id": "ZgwZOGExTeFq"
      },
      "execution_count": null,
      "outputs": []
    },
    {
      "cell_type": "code",
      "source": [
        "import math\n",
        "\n",
        "def KhoangCach():\n",
        "    x1 = float(input(\"Nhap x1: \"))\n",
        "    y1 = float(input(\"Nhap y1: \"))\n",
        "    x2 = float(input(\"Nhap x2: \"))\n",
        "    y2 = float(input(\"Nhap y2: \"))\n",
        "\n",
        "    d = math.sqrt((x2 - x1)**2 + (y2 - y1)**2)\n",
        "    print(f\"Khoang cach giua A({x1},{y1}) va B({x2},{y2}) la {d:.2f}\")"
      ],
      "metadata": {
        "id": "0dp7L2yPT1-a"
      },
      "execution_count": null,
      "outputs": []
    }
  ]
}