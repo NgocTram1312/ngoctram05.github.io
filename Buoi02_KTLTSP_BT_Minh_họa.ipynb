{
  "nbformat": 4,
  "nbformat_minor": 0,
  "metadata": {
    "colab": {
      "provenance": [],
      "authorship_tag": "ABX9TyObG9NDFBcINOdOtAEvozbh",
      "include_colab_link": true
    },
    "kernelspec": {
      "name": "python3",
      "display_name": "Python 3"
    },
    "language_info": {
      "name": "python"
    }
  },
  "cells": [
    {
      "cell_type": "markdown",
      "metadata": {
        "id": "view-in-github",
        "colab_type": "text"
      },
      "source": [
        "<a href=\"https://colab.research.google.com/github/NgocTram1312/ngoctram05.github.io/blob/gh-pages/Buoi02_KTLTSP_BT_Minh_h%E1%BB%8Da.ipynb\" target=\"_parent\"><img src=\"https://colab.research.google.com/assets/colab-badge.svg\" alt=\"Open In Colab\"/></a>"
      ]
    },
    {
      "cell_type": "code",
      "source": [
        "## ham kiem tra so nguyen to\n",
        "def ktsnt(n):\n",
        "    if n < 2: # 0, 1 khong la so nguyen to\n",
        "        return False\n",
        "    for i in range(2, int(n**(0.5))+1): # can bac hai cua n\n",
        "        if (n % i == 0):\n",
        "            return False\n",
        "    return True\n",
        "### nhap vao so nguyen can kiem tra\n",
        "a = int(input(\"Nhap vao so nguyen:\"))\n",
        "if ktsnt(a):\n",
        "    print(\"%d la so nguyen to\" % a)\n",
        "else:\n",
        "    print(\"%d khong la so nguyen to\" % a)"
      ],
      "metadata": {
        "colab": {
          "base_uri": "https://localhost:8080/"
        },
        "id": "mMOyK3JpevTm",
        "outputId": "1ef48307-e512-4679-cdb5-ec1deeef75ad"
      },
      "execution_count": 4,
      "outputs": [
        {
          "output_type": "stream",
          "name": "stdout",
          "text": [
            "Nhap vao so nguyen:4\n",
            "4 khong la so nguyen to\n"
          ]
        }
      ]
    },
    {
      "cell_type": "code",
      "source": [
        "### ham liek ke cac so nguyen to nho hon n\n",
        "def lietkesnt(k):\n",
        "    if k <= 2:\n",
        "        print(\"khong co so nguyen to thoa yeu cau\")\n",
        "    else:\n",
        "        for i in range(2,k):\n",
        "            if ktsnt(i):\n",
        "                print(\"%d \" %i)\n",
        "n = 20\n",
        "lietkesnt(n)"
      ],
      "metadata": {
        "colab": {
          "base_uri": "https://localhost:8080/"
        },
        "id": "YcCky60ufY7X",
        "outputId": "644c168c-b0f5-4454-e69c-9c803471f918"
      },
      "execution_count": 6,
      "outputs": [
        {
          "output_type": "stream",
          "name": "stdout",
          "text": [
            "2 \n",
            "3 \n",
            "5 \n",
            "7 \n",
            "11 \n",
            "13 \n",
            "17 \n",
            "19 \n"
          ]
        }
      ]
    },
    {
      "cell_type": "code",
      "source": [
        "### ham liet ke M\n",
        "def lietkeMsnt(M):\n",
        "    bien_dem = 0 # dem : tu 0 den M-1\n",
        "    t = 2 # 0 va 1 khong la so nguyen to\n",
        "    while(bien_dem < M):\n",
        "        if ktsnt(t):\n",
        "            print(\"%d \" %t)\n",
        "            bien_dem +=1\n",
        "        t+=1\n",
        "M=10\n",
        "lietkeMsnt(M)"
      ],
      "metadata": {
        "colab": {
          "base_uri": "https://localhost:8080/"
        },
        "id": "2A3XtnmGfo-k",
        "outputId": "da86805a-ef98-4be2-e8c3-cdd178b7fd13"
      },
      "execution_count": 9,
      "outputs": [
        {
          "output_type": "stream",
          "name": "stdout",
          "text": [
            "2 \n",
            "3 \n",
            "5 \n",
            "7 \n",
            "11 \n",
            "13 \n",
            "17 \n",
            "19 \n",
            "23 \n",
            "29 \n"
          ]
        }
      ]
    },
    {
      "cell_type": "code",
      "source": [
        "def insochan(M,N):\n",
        "    for i in range (M+1,N):\n",
        "        if i % 2 == 0 :\n",
        "            print(\"%d \" %i)\n",
        "M = int(input(\"Nhap chan duoi:\"))\n",
        "N = int(input(\"Nhap chan tren:\"))\n",
        "insochan(M,N)"
      ],
      "metadata": {
        "colab": {
          "base_uri": "https://localhost:8080/"
        },
        "id": "ajrPa3JZfybI",
        "outputId": "41b918a0-3efa-4c95-b414-fbbfdac7f1e1"
      },
      "execution_count": 12,
      "outputs": [
        {
          "output_type": "stream",
          "name": "stdout",
          "text": [
            "Nhap chan duoi:10\n",
            "Nhap chan tren:20\n",
            "12 \n",
            "14 \n",
            "16 \n",
            "18 \n"
          ]
        }
      ]
    },
    {
      "cell_type": "code",
      "source": [
        "def lietke1(M,N):\n",
        "    for i in range(M,N+1):\n",
        "        if (i%7==0) and (i%5!=0):\n",
        "            print(\"%d \" %i)\n",
        "M = 99\n",
        "N = 999\n",
        "lietke1(M,N)"
      ],
      "metadata": {
        "colab": {
          "base_uri": "https://localhost:8080/"
        },
        "id": "Y4H7XaAMgMp0",
        "outputId": "e28d8859-6ba9-4530-d425-986e24c0590a"
      },
      "execution_count": 14,
      "outputs": [
        {
          "output_type": "stream",
          "name": "stdout",
          "text": [
            "112 \n",
            "119 \n",
            "126 \n",
            "133 \n",
            "147 \n",
            "154 \n",
            "161 \n",
            "168 \n",
            "182 \n",
            "189 \n",
            "196 \n",
            "203 \n",
            "217 \n",
            "224 \n",
            "231 \n",
            "238 \n",
            "252 \n",
            "259 \n",
            "266 \n",
            "273 \n",
            "287 \n",
            "294 \n",
            "301 \n",
            "308 \n",
            "322 \n",
            "329 \n",
            "336 \n",
            "343 \n",
            "357 \n",
            "364 \n",
            "371 \n",
            "378 \n",
            "392 \n",
            "399 \n",
            "406 \n",
            "413 \n",
            "427 \n",
            "434 \n",
            "441 \n",
            "448 \n",
            "462 \n",
            "469 \n",
            "476 \n",
            "483 \n",
            "497 \n",
            "504 \n",
            "511 \n",
            "518 \n",
            "532 \n",
            "539 \n",
            "546 \n",
            "553 \n",
            "567 \n",
            "574 \n",
            "581 \n",
            "588 \n",
            "602 \n",
            "609 \n",
            "616 \n",
            "623 \n",
            "637 \n",
            "644 \n",
            "651 \n",
            "658 \n",
            "672 \n",
            "679 \n",
            "686 \n",
            "693 \n",
            "707 \n",
            "714 \n",
            "721 \n",
            "728 \n",
            "742 \n",
            "749 \n",
            "756 \n",
            "763 \n",
            "777 \n",
            "784 \n",
            "791 \n",
            "798 \n",
            "812 \n",
            "819 \n",
            "826 \n",
            "833 \n",
            "847 \n",
            "854 \n",
            "861 \n",
            "868 \n",
            "882 \n",
            "889 \n",
            "896 \n",
            "903 \n",
            "917 \n",
            "924 \n",
            "931 \n",
            "938 \n",
            "952 \n",
            "959 \n",
            "966 \n",
            "973 \n",
            "987 \n",
            "994 \n"
          ]
        }
      ]
    },
    {
      "cell_type": "code",
      "source": [
        "def Tinh(n):\n",
        "    tong= 0\n",
        "    dem = 0\n",
        "    while(n>0):\n",
        "        sodu = n%10\n",
        "        tong = tong+sodu\n",
        "        dem = dem+1\n",
        "        n = n//10\n",
        "        print(sodu)\n",
        "    return tong,dem\n",
        "a = int(input(\"Nhap n:\"))\n",
        "tong, sochuso = Tinh(a)\n",
        "print(\"so luong chu so: %d\" % sochuso)\n",
        "print(\"tong cac chu so:%d\" %tong)"
      ],
      "metadata": {
        "colab": {
          "base_uri": "https://localhost:8080/"
        },
        "id": "PvtuSkLYgaN2",
        "outputId": "d6084c2f-e280-486c-a967-4e63218396dc"
      },
      "execution_count": 16,
      "outputs": [
        {
          "output_type": "stream",
          "name": "stdout",
          "text": [
            "Nhap n:50\n",
            "0\n",
            "5\n",
            "so luong chu so: 2\n",
            "tong cac chu so:5\n"
          ]
        }
      ]
    },
    {
      "cell_type": "code",
      "source": [
        "def giaithua(n):\n",
        "    if n == 1:\n",
        "        return 1\n",
        "    else:\n",
        "        return (n * giaithua(n-1))\n",
        "num = 5\n",
        "print(\"Giai thừa của\", num, \"là\", giaithua(num))"
      ],
      "metadata": {
        "colab": {
          "base_uri": "https://localhost:8080/"
        },
        "id": "v1qCMaM4k0j-",
        "outputId": "47831fbd-04c3-4bde-dacb-f2b70ba728bb"
      },
      "execution_count": 18,
      "outputs": [
        {
          "output_type": "stream",
          "name": "stdout",
          "text": [
            "Giai thừa của 5 là 120\n"
          ]
        }
      ]
    },
    {
      "cell_type": "code",
      "source": [
        "def power(a,b):\n",
        "    if b==0:\n",
        "        return 1\n",
        "    elif a==0:\n",
        "        return 0\n",
        "    elif b==1:\n",
        "        return a\n",
        "    else:\n",
        "        return a*power(a,b-1)\n",
        "a = 2\n",
        "b = 3\n",
        "print(a,\"^\",b,\"=\", power(a,b))"
      ],
      "metadata": {
        "colab": {
          "base_uri": "https://localhost:8080/"
        },
        "id": "nfli1qgbQN7N",
        "outputId": "c850bac7-6437-4953-d666-9662ad508bf2"
      },
      "execution_count": 2,
      "outputs": [
        {
          "output_type": "stream",
          "name": "stdout",
          "text": [
            "2 ^ 3 = 8\n"
          ]
        }
      ]
    },
    {
      "cell_type": "code",
      "source": [
        "def chieudaichuoi(strl):\n",
        "  count = 0\n",
        "  for chart in strl:\n",
        "    count +=1\n",
        "  return count\n",
        "ss = 'hello world...!!!!'\n",
        "print('chieu dai chuoi : {}'.format(chieudaichuoi(ss)))\n",
        "print('check len()function:',len(ss))"
      ],
      "metadata": {
        "colab": {
          "base_uri": "https://localhost:8080/"
        },
        "id": "Sqm6eKuHQlG9",
        "outputId": "18d2e6f3-6215-4236-eaca-cc5adb9304ac"
      },
      "execution_count": 4,
      "outputs": [
        {
          "output_type": "stream",
          "name": "stdout",
          "text": [
            "chieu dai chuoi : 18\n",
            "check len()function: 18\n"
          ]
        }
      ]
    },
    {
      "cell_type": "code",
      "source": [
        "### TH1: Dung split\n",
        "test_string = \"Tach chuoi dung split\"\n",
        "print (\"input:\", test_string)\n",
        "temp = test_string.split()\n",
        "print(\"tach tu:\", temp)\n",
        "res = len(temp)\n",
        "print (\"The number of words in string are : \",str(res))"
      ],
      "metadata": {
        "colab": {
          "base_uri": "https://localhost:8080/"
        },
        "id": "LbiTLevDRUOB",
        "outputId": "7c59c4b0-8205-4381-9ce8-750cc53c0508"
      },
      "execution_count": 5,
      "outputs": [
        {
          "output_type": "stream",
          "name": "stdout",
          "text": [
            "input: Tach chuoi dung split\n",
            "tach tu: ['Tach', 'chuoi', 'dung', 'split']\n",
            "The number of words in string are :  4\n"
          ]
        }
      ]
    },
    {
      "cell_type": "code",
      "source": [
        "### TH2: Khong dung split\n",
        "test_string = \"tach chuoi thanh tu\"\n",
        "if len(test_string) == 0 or (test_string.isspace()):\n",
        "    print(\"The number of words in string are = \", 0)\n",
        "else:\n",
        "    total = 0\n",
        "    test_string = test_string + ' ' # Add a space at the end to count the last word\n",
        "    for i in range(len(test_string) - 1):\n",
        "        if (test_string[i] != ' ' and test_string[i+1] == ' '):\n",
        "            total = total + 1\n",
        "    print(\"The number of words in string are \", total)"
      ],
      "metadata": {
        "colab": {
          "base_uri": "https://localhost:8080/"
        },
        "id": "BN2wUxuUSKIy",
        "outputId": "12546e22-554b-415a-f360-ab02d7700fb9"
      },
      "execution_count": 7,
      "outputs": [
        {
          "output_type": "stream",
          "name": "stdout",
          "text": [
            "The number of words in string are  4\n"
          ]
        }
      ]
    },
    {
      "cell_type": "code",
      "source": [
        "from re import L\n",
        "test_string = \" !! fdafdaf\"\n",
        "valid_symbols = \"!@#$%^&*()_-+={}[]<>`/>,\"\n",
        "def dem_nguyenam_phuam(string):\n",
        "  nguyenam = 0\n",
        "  phuam = 0\n",
        "  for char in string:\n",
        "    if char != ' ' and char not in valid_symbols:\n",
        "      if char in \"aeiouAEIOU\":\n",
        "        nguyenam = nguyenam + 1\n",
        "      else:\n",
        "        phuam = phuam + 1\n",
        "  return nguyenam, phuam\n",
        "\n",
        "print(len(test_string))\n",
        "v,c = dem_nguyenam_phuam(test_string)\n",
        "print(v,c)"
      ],
      "metadata": {
        "colab": {
          "base_uri": "https://localhost:8080/"
        },
        "id": "y06MCapaTKMh",
        "outputId": "5d2330fb-4b3b-46e5-8e67-3a5f114066ef"
      },
      "execution_count": 9,
      "outputs": [
        {
          "output_type": "stream",
          "name": "stdout",
          "text": [
            "11\n",
            "2 5\n"
          ]
        }
      ]
    },
    {
      "cell_type": "code",
      "source": [
        "A = ['3', '27', '5', '123','9','l']\n",
        "print(\"Input:\", A)\n",
        "StringSort = sorted(A)\n",
        "print(\"StringSort:\", StringSort)\n",
        "def myintSort(a):\n",
        "  return int(a)\n",
        "  INTSort = sorted(A,key=myintSort)\n",
        "  print(\"INTSort:\", INTSort)\n",
        ""
      ],
      "metadata": {
        "colab": {
          "base_uri": "https://localhost:8080/"
        },
        "id": "ahGqMICfUf1n",
        "outputId": "05e66221-fbca-4a20-9add-261ec4776d06"
      },
      "execution_count": 11,
      "outputs": [
        {
          "output_type": "stream",
          "name": "stdout",
          "text": [
            "Input: ['3', '27', '5', '123', '9', 'l']\n",
            "StringSort: ['123', '27', '3', '5', '9', 'l']\n"
          ]
        }
      ]
    },
    {
      "cell_type": "code",
      "source": [
        "A = [12,24,35,70,88,120,155]\n",
        "print(\"Input:\",A)\n",
        "indexR = [1,2,3,6]\n",
        "B = [x for i, x in enumerate(A) if i not in indexR]\n",
        "print(\"Sau khi Xoa:\",B)"
      ],
      "metadata": {
        "colab": {
          "base_uri": "https://localhost:8080/"
        },
        "id": "pa725j8nVfW2",
        "outputId": "b4827cda-5fff-4b19-d3f6-8894ae442a30"
      },
      "execution_count": 12,
      "outputs": [
        {
          "output_type": "stream",
          "name": "stdout",
          "text": [
            "Input: [12, 24, 35, 70, 88, 120, 155]\n",
            "Sau khi Xoa: [12, 88, 120]\n"
          ]
        }
      ]
    },
    {
      "cell_type": "code",
      "source": [
        "A = [1,1,1,2,2,2,3,1,2,5,6,7,8,5,6,7]\n",
        "print(\"Input\", A)\n",
        "B = []\n",
        "[B.append(x)for x in A if x not in B]\n",
        "print(\"Output_l:\",B)\n",
        "### List comprehension\n",
        "newlist=[ii for n, ii in enumerate(A) if ii not in A[:n]]\n",
        "print(\"Output_2:\",newlist)\n",
        "#dung tap hop\n",
        "Newlist_set= list(set(A))\n",
        "print(\"Output_3:\",Newlist_set)\n",
        "# dung tu dien\n",
        "mylist = list(dict.fromkeys(A))\n",
        "print(\"Output_4:\", mylist)"
      ],
      "metadata": {
        "colab": {
          "base_uri": "https://localhost:8080/"
        },
        "id": "h8N-uUfyWJ8D",
        "outputId": "35ad2f09-b79e-468d-8177-71568fd1fba0"
      },
      "execution_count": 14,
      "outputs": [
        {
          "output_type": "stream",
          "name": "stdout",
          "text": [
            "Input [1, 1, 1, 2, 2, 2, 3, 1, 2, 5, 6, 7, 8, 5, 6, 7]\n",
            "Output_l: [1, 2, 3, 5, 6, 7, 8]\n",
            "Output_2: [1, 2, 3, 5, 6, 7, 8]\n",
            "Output_3: [1, 2, 3, 5, 6, 7, 8]\n",
            "Output_4: [1, 2, 3, 5, 6, 7, 8]\n"
          ]
        }
      ]
    },
    {
      "cell_type": "code",
      "source": [
        "A = [1,1,1,1,2,2,2,2,3,3,4,5,5]\n",
        "# khong dung set va dicionary\n",
        "e=[]\n",
        "for i in range(len(A)):\n",
        "    if A[i] not in e:\n",
        "        e.append(A[i])\n",
        "print(A[i],\":\",A.count(A[i]),sep='',end =\",\")\n",
        "print(\"\\n\")\n",
        "# dung tap hop\n",
        "b = [[x,A.count(x)] for x in set(A)]\n",
        "print(b)\n",
        "for i in range(len(b)):\n",
        "    print(b[i][0],\":\",b[i][1],sep='',end =\",\")\n",
        "print(\"\\n\")\n",
        "# dung tu dien\n",
        "d = {x:A.count(x) for x in A}\n",
        "print(d)\n",
        "# dung Counter()\n",
        "import collections\n",
        "ctr = collections.Counter(A)\n",
        "print(ctr)"
      ],
      "metadata": {
        "colab": {
          "base_uri": "https://localhost:8080/"
        },
        "id": "FkmuKV5nXn3j",
        "outputId": "dfac3d73-576a-498e-87f9-b98bc13c8c40"
      },
      "execution_count": 16,
      "outputs": [
        {
          "output_type": "stream",
          "name": "stdout",
          "text": [
            "5:2,\n",
            "\n",
            "[[1, 4], [2, 4], [3, 2], [4, 1], [5, 2]]\n",
            "1:4,2:4,3:2,4:1,5:2,\n",
            "\n",
            "{1: 4, 2: 4, 3: 2, 4: 1, 5: 2}\n",
            "Counter({1: 4, 2: 4, 3: 2, 5: 2, 4: 1})\n"
          ]
        }
      ]
    }
  ]
}